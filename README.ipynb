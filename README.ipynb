{
 "cells": [
  {
   "cell_type": "markdown",
   "id": "b2452df2",
   "metadata": {},
   "source": [
    "# Cryptocurrency Data Analysis Tool\n",
    "\n",
    "This tool is designed to facilitate the retrieval and analysis of cryptocurrency data using the CoinGecko API. It provides a simple interface to extract data for specific cryptocurrencies within a given time range and generate line plots for visual analysis.\n",
    "\n",
    "#### Features\n",
    "1. Retrieve cryptocurrency data: use the get_crypto_data function to retrieve data for specific cryptocurrencies, including prices, market cap, and total volume within a specified time range.\n",
    "\n",
    "2. Generate line plots for single currency: utilize the generate_line_plot_single_currency function to generate separate line plots for price, market cap, and total volume against a timeframe for a single currency.\n",
    "\n",
    "3. Generate line plots for multiple currencies: use the generate_line_plots_multiple_currencies function to generate line plots for multiple currencies, either combined into a single graph or displayed as separate line plots.\n",
    "\n",
    "#### Prerequisites\n",
    "Python 3.8 or above  \n",
    "Required Python packages: pycoingecko, pandas, matplotlib\n",
    "\n",
    "#### Installation\n",
    "Install the required packages:"
   ]
  },
  {
   "cell_type": "markdown",
   "id": "3c15c1db",
   "metadata": {},
   "source": [
    "$ pip install pycoingecko pandas matplotlib"
   ]
  },
  {
   "cell_type": "markdown",
   "id": "8b984780",
   "metadata": {},
   "source": [
    "#### Usage\n",
    "\n",
    "1. Import the necessary modules in your Python code:"
   ]
  },
  {
   "cell_type": "code",
   "execution_count": null,
   "id": "f98a99e0",
   "metadata": {},
   "outputs": [],
   "source": [
    "from pycoingecko import CoinGeckoAPI\n",
    "import pandas as pd\n",
    "import matplotlib.pyplot as plt"
   ]
  },
  {
   "cell_type": "markdown",
   "id": "04bf0673",
   "metadata": {},
   "source": [
    "2. Use the provided functions (get_crypto_data, generate_line_plot_single_currency, generate_line_plots_multiple_currencies) to retrieve cryptocurrency data and generate line plots based on your analysis requirements. Refer to the function documentation for detailed usage examples.\n",
    "\n",
    "3. Modify the parameters within the functions to specify the cryptocurrency identifiers, time range, and other relevant settings based on your analysis needs.\n",
    "\n",
    "4. Run your Python code and view the generated line plots to gain insights into the cryptocurrency data.\n",
    "\n",
    "#### Examples\n",
    "For example usage of the tool, refer to the provided Jupyter Notebook (cgTool.ipynb). The notebook demonstrates how to retrieve cryptocurrency data, generate line plots, and customize the visualization based on user preferences.\n",
    "\n",
    "\n"
   ]
  }
 ],
 "metadata": {
  "kernelspec": {
   "display_name": "Python 3 (ipykernel)",
   "language": "python",
   "name": "python3"
  },
  "language_info": {
   "codemirror_mode": {
    "name": "ipython",
    "version": 3
   },
   "file_extension": ".py",
   "mimetype": "text/x-python",
   "name": "python",
   "nbconvert_exporter": "python",
   "pygments_lexer": "ipython3",
   "version": "3.11.4"
  }
 },
 "nbformat": 4,
 "nbformat_minor": 5
}
