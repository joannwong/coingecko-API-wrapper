{
 "cells": [
  {
   "cell_type": "markdown",
   "id": "bdb60b5a",
   "metadata": {},
   "source": [
    "# Function Documentation"
   ]
  },
  {
   "cell_type": "markdown",
   "id": "285004c5",
   "metadata": {},
   "source": [
    "### get_crypto_data function\n",
    "\n",
    "#### Description \n",
    "The get_crypto_data function retrieves cryptocurrency data from the CoinGecko API for a specific cryptocurrency within a given time range.\n",
    "\n",
    "#### Parameters\n",
    "crypto_id (str): The identifier of the cryptocurrency to retrieve data for. Example: 'bitcoin'.  \n",
    "\n",
    "start_date (str): The start date of the data range in 'YYYY-MM-DD' format.  \n",
    "\n",
    "end_date(str): The end date of the data range in 'YYYY-MM-DD' format.\n",
    "\n",
    "#### Returns\n",
    "pandas.DataFrame: A DataFrame containing the retrieved cryptocurrency data, including prices, market cap, and total volume within the specified time range.\n",
    "\n",
    "#### Raises\n",
    "ValueError: If the crypto_id, start_date, or end_date are invalid or if the data retrieval fails.\n",
    "\n",
    "#### Example"
   ]
  },
  {
   "cell_type": "code",
   "execution_count": null,
   "id": "8287221a",
   "metadata": {},
   "outputs": [],
   "source": [
    "df = get_crypto_data('bitcoin', '2022-01-01', '2022-01-31')\n",
    "print(df)"
   ]
  },
  {
   "cell_type": "markdown",
   "id": "651d5c99",
   "metadata": {},
   "source": [
    "This example retrieves cryptocurrency data for Bitcoin within the specified time range and prints the resulting DataFrame."
   ]
  },
  {
   "cell_type": "markdown",
   "id": "63ab0600",
   "metadata": {},
   "source": [
    "### generate_line_plots_multiple_currencies function"
   ]
  },
  {
   "cell_type": "markdown",
   "id": "20e0be74",
   "metadata": {},
   "source": [
    "#### Description\n",
    "The generate_line_plots_multiple_currencies function generates line plots based on prices against a timeframe for multiple currencies. The function provides the flexibility to combine the plots into a single graph or display them as separate line plots.\n",
    "\n",
    "#### Parameters\n",
    "dataframes (list): A list of pandas DataFrames, each containing cryptocurrency data for a specific currency.  \n",
    "\n",
    "combine_plots (bool): A flag indicating whether to combine the plots into a single graph (default: True).\n",
    "\n",
    "#### Returns\n",
    "None\n",
    "\n",
    "#### Example"
   ]
  },
  {
   "cell_type": "code",
   "execution_count": null,
   "id": "3393325c",
   "metadata": {},
   "outputs": [],
   "source": [
    "# Generate combined line plots\n",
    "generate_line_plots_multiple_currencies(dataframes, combine_plots=True)\n",
    "\n",
    "# Generate separate line plots\n",
    "generate_line_plots_multiple_currencies(dataframes, combine_plots=False)"
   ]
  },
  {
   "cell_type": "markdown",
   "id": "ba0b57df",
   "metadata": {},
   "source": [
    "This example demonstrates how to generate line plots for multiple currencies, either combining them into a single graph or displaying them as separate line plots"
   ]
  },
  {
   "cell_type": "markdown",
   "id": "6e288513",
   "metadata": {},
   "source": [
    "### generate_line_plot_single_currency function"
   ]
  },
  {
   "cell_type": "markdown",
   "id": "8b05587a",
   "metadata": {},
   "source": [
    "#### Description\n",
    "The generate_line_plot_single_currency function generates separate line plots for price, market cap, and total volume against a timeframe for a single currency.\n",
    "\n",
    "#### Parameters\n",
    "df (pandas.DataFrame): A DataFrame containing cryptocurrency data for a specific currency.  \n",
    "\n",
    "currency (str): The name of the currency.\n",
    "\n",
    "#### Returns\n",
    "None\n",
    "\n",
    "#### Example"
   ]
  },
  {
   "cell_type": "code",
   "execution_count": null,
   "id": "156b7a46",
   "metadata": {},
   "outputs": [],
   "source": [
    "generate_line_plot_single_currency(df, currency='bitcoin')"
   ]
  },
  {
   "cell_type": "markdown",
   "id": "1d4cc63f",
   "metadata": {},
   "source": [
    "This example generates separate line plots for price, market cap, and total volume for Bitcoin against the specified timeframe."
   ]
  }
 ],
 "metadata": {
  "kernelspec": {
   "display_name": "Python 3 (ipykernel)",
   "language": "python",
   "name": "python3"
  },
  "language_info": {
   "codemirror_mode": {
    "name": "ipython",
    "version": 3
   },
   "file_extension": ".py",
   "mimetype": "text/x-python",
   "name": "python",
   "nbconvert_exporter": "python",
   "pygments_lexer": "ipython3",
   "version": "3.11.4"
  }
 },
 "nbformat": 4,
 "nbformat_minor": 5
}
